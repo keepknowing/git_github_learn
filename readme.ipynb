{
 "cells": [
  {
   "cell_type": "markdown",
   "metadata": {},
   "source": [
    "<font size=184px>GIT & GITHUB</font>\n",
    "____________________________________\n",
    "[git Documentation](https://git-scm.com/docs/gittutorial)  \n",
    "[Github Guides](https://github.com/git-guides)\n",
    "\n",
    "\n",
    "Extensions:  \n",
    "    * Gitlens  \n",
    "    * Git History"
   ]
  },
  {
   "cell_type": "markdown",
   "metadata": {},
   "source": [
    "# <font color=00ffff>git</font>\n",
    "\n",
    "\n"
   ]
  },
  {
   "cell_type": "markdown",
   "metadata": {},
   "source": [
    "## install\n",
    "\n",
    "\n"
   ]
  },
  {
   "cell_type": "markdown",
   "metadata": {},
   "source": [
    "\n",
    "## config  \n",
    "\n",
    "* git config --list\n",
    "\n",
    "* git config credential.helper store *( to save login and pass )*\n",
    "\n",
    "* git config --global --unset credential.helper *( remove global saved credential )*\n",
    "\n",
    "* git config --unset credential.helper *( remove local saved credential )*\n"
   ]
  },
  {
   "cell_type": "markdown",
   "metadata": {},
   "source": [
    "## init\n",
    "\n",
    "\n"
   ]
  },
  {
   "cell_type": "markdown",
   "metadata": {},
   "source": [
    "## ignore\n",
    "\n"
   ]
  },
  {
   "cell_type": "markdown",
   "metadata": {},
   "source": [
    "## commit\n",
    "\n"
   ]
  },
  {
   "cell_type": "markdown",
   "metadata": {},
   "source": [
    "## log\n",
    "\n"
   ]
  },
  {
   "cell_type": "markdown",
   "metadata": {},
   "source": [
    "## checkout\n",
    "* git checkout -- . *( to back modified files to last checkout point )*\n",
    "\n",
    "* checkout one file before 'git add'\n",
    "    * git checkout -- 'file name'  \n",
    "\n",
    "* checkout after 'git add ...'\n",
    "    * git checkout HEAD -- . *( for all files )*\n",
    "    * git checkout HEAD -- 'file name' *( for a specific file )*"
   ]
  },
  {
   "cell_type": "markdown",
   "metadata": {},
   "source": [
    "## mv\n",
    "\n"
   ]
  },
  {
   "cell_type": "markdown",
   "metadata": {},
   "source": [
    "## diff\n",
    "\n"
   ]
  },
  {
   "cell_type": "markdown",
   "metadata": {},
   "source": [
    "## restore\n",
    "\n",
    "\n"
   ]
  },
  {
   "cell_type": "markdown",
   "metadata": {},
   "source": [
    "## reset\n",
    "\n",
    "* remove the last commit\n",
    "* git reset HEAD~1  *( number to numbers of commit will be deleted )*"
   ]
  },
  {
   "cell_type": "markdown",
   "metadata": {},
   "source": [
    "## git revert\n",
    "* git revert 'commit id'\n",
    "    * create a new commit from a commid id point \n",
    "\n",
    "one new commit will be created. It will not erase the last commit"
   ]
  },
  {
   "cell_type": "markdown",
   "metadata": {},
   "source": [
    "## delete"
   ]
  },
  {
   "cell_type": "markdown",
   "metadata": {},
   "source": [
    "## branch"
   ]
  },
  {
   "cell_type": "markdown",
   "metadata": {},
   "source": [
    "* commands  \n",
    "    * create\n",
    "        * git branch -b 'branch name' <font color=green>( if not exist, create and switch to )</font>\n",
    "        * git branch 'branch name' <font color=green>( create a new branch )</font>\n",
    "    * git branch <font color=green>( show list of branch )</font>\n",
    "    * git checkout 'branch name' <font color=green>( set a branch to main )</font>\n",
    "    * git checkout -D 'branch name' <font color=green>( delete a branch )</font>\n",
    "\n",
    "* merge\n",
    "    * git merge 'branch name' ()"
   ]
  },
  {
   "cell_type": "markdown",
   "metadata": {},
   "source": [
    "## switch\n",
    "* git switch -c 'name branch'\n",
    "    * create a new branch and switch\n",
    "    This was suggested after a checkout to a **tag version**, making possible to progress with a new projet version."
   ]
  },
  {
   "attachments": {
    "image.png": {
     "image/png": "[encoded data removed]"
    }
   },
   "cell_type": "markdown",
   "metadata": {},
   "source": [
    "## rebase\n",
    "* mount a mege in the Base\n",
    "![image.png](attachment:image.png)\n",
    "\n",
    "* remake a base"
   ]
  },
  {
   "cell_type": "markdown",
   "metadata": {},
   "source": [
    "## clone\n",
    "* create a clone and all commit in one can be delivery in another.\n"
   ]
  },
  {
   "cell_type": "markdown",
   "metadata": {},
   "source": [
    "## fetch e pull  \n",
    "\n",
    "* fetch download files but not merge, necessary run **git rebase** to news appear\n",
    "    * git fetch\n",
    "        * git rebase \n",
    "* pull == git fetch + git rebase  \n",
    "    * download and merge project"
   ]
  },
  {
   "cell_type": "markdown",
   "metadata": {},
   "source": [
    "## Tags\n",
    "\n",
    "* git tag 'tag name'\n",
    "    * git push origin v1.0\n",
    "\n",
    "* from team run **git pull** to get tags\n",
    "\n",
    "* git checkout v1.0 : *it turn um project in ref tag but **we cant commit** in tag checkout*"
   ]
  },
  {
   "cell_type": "markdown",
   "metadata": {},
   "source": [
    "____"
   ]
  },
  {
   "cell_type": "markdown",
   "metadata": {},
   "source": [
    "# <font color=00ffff>github</font>"
   ]
  },
  {
   "cell_type": "markdown",
   "metadata": {},
   "source": [
    "Get started by creating a new file or uploading an existing file. We recommend every repository include a README, LICENSE, and .gitignore.  \n",
    "* Helpfull links:  \n",
    "    * [Creating a new file](https://github.com/keepknowing/git_github_learn/new/main)  \n",
    "    * [Uploading an existing file](https://github.com/keepknowing/git_github_learn/upload)  \n",
    "    * [README](https://github.com/keepknowing/git_github_learn/new/main?readme=1)  \n",
    "    * [LICENSE](https://github.com/keepknowing/git_github_learn/new/main?filename=LICENSE.md)  \n",
    "    * [.gitignore](https://github.com/keepknowing/git_github_learn/new/main?filename=.gitignore)  \n",
    "<br>\n",
    "* …or create a new repository on the command line\n",
    "echo \"# git_github_learn\" >> README.md  \n",
    "git init  \n",
    "git add README.md  \n",
    "git commit -m \"first commit\"  \n",
    "git branch -M main  \n",
    "git remote add origin https://github.com/keepknowing/git_github_learn.git  \n",
    "git push -u origin main  \n",
    "\n",
    "* …or push an existing repository from the command line  \n",
    "git remote add origin https://github.com/keepknowing/git_github_learn.git  \n",
    "git branch -M main  \n",
    "git push -u origin main  "
   ]
  },
  {
   "cell_type": "markdown",
   "metadata": {},
   "source": [
    "## remote repository  \n",
    "* git remote -v *(check remote repository if exist)\n",
    "\n",
    "* git remote set-url origin 'url repo'"
   ]
  },
  {
   "cell_type": "markdown",
   "metadata": {},
   "source": [
    "* git push -u origin main ( upload )  \n",
    "\n",
    "* git pull origin main ( download )"
   ]
  },
  {
   "cell_type": "markdown",
   "metadata": {},
   "source": [
    "## clone repository github\n",
    "\n",
    "* git clone 'repository url'\n",
    "* git config --unset credencial.helper\n",
    "* git remote set-url origin 'repository url' [https://keepknowing@github.com/'user'/'repository']\n",
    "* git remote -v ( show related repository )\n",
    "\n",
    "\n"
   ]
  },
  {
   "cell_type": "markdown",
   "metadata": {},
   "source": [
    "## Criando Página Estática\n",
    "\n",
    "* git clone\n"
   ]
  }
 ],
 "metadata": {
  "language_info": {
   "name": "python"
  },
  "orig_nbformat": 4
 },
 "nbformat": 4,
 "nbformat_minor": 2
}
